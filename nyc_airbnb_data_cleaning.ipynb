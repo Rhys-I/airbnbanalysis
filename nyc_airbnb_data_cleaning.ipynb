{
 "cells": [
  {
   "cell_type": "markdown",
   "id": "4660affa",
   "metadata": {},
   "source": [
    "# NYC Airbnb Data Cleaning\n",
    "\n",
    "This notebook demonstrates **step‑by‑step** how the cleaned dataset (`nyc_airbnb_cleaned.csv`) was produced from the raw scrape (`listings.csv`).\n",
    "\n",
    "**Files**\n",
    "\n",
    "* `nyc_airbnb_raw_data.zip` ➜ contains the original `listings.csv`.\n",
    "* `nyc_airbnb_cleaned_data.zip` ➜ target cleaned file.\n",
    "\n",
    "We will:\n",
    "\n",
    "1. Load the raw data.\n",
    "2. Profile missing values and basic statistics.\n",
    "3. Apply cleaning rules:\n",
    "   * Drop columns with >50 % missing values.\n",
    "   * Remove rows missing critical identifiers or location fields.\n",
    "   * Convert data types (e.g., `price` to numeric).\n",
    "   * Trim whitespace and standardise text columns.\n",
    "4. Save cleaned data locally (and to a ZIP to match deliverable).\n"
   ]
  },
  {
   "cell_type": "code",
   "execution_count": null,
   "id": "5dbf6d1c",
   "metadata": {},
   "outputs": [],
   "source": [
    "import pandas as pd\n",
    "import matplotlib.pyplot as plt\n",
    "import zipfile\n",
    "from pathlib import Path\n",
    "\n",
    "RAW_ZIP = Path('/mnt/data/nyc_airbnb_raw_data.zip')\n",
    "RAW_FILE = 'listings.csv'\n"
   ]
  },
  {
   "cell_type": "code",
   "execution_count": null,
   "id": "5017ea59",
   "metadata": {},
   "outputs": [],
   "source": [
    "with zipfile.ZipFile(RAW_ZIP) as z:\n",
    "    with z.open(RAW_FILE) as f:\n",
    "        raw_df = pd.read_csv(f, low_memory=False)\n",
    "\n",
    "print(f'Raw shape: {raw_df.shape}')\n",
    "raw_df.head()\n"
   ]
  },
  {
   "cell_type": "code",
   "execution_count": null,
   "id": "a90f3fcf",
   "metadata": {},
   "outputs": [],
   "source": [
    "missing_pct = raw_df.isna().mean().sort_values(ascending=False)\n",
    "missing_pct.head(20)\n"
   ]
  },
  {
   "cell_type": "markdown",
   "id": "0f1eee3e",
   "metadata": {},
   "source": [
    "## Cleaning Rules\n",
    "\n",
    "* **Drop columns** with more than 50 % missing values.\n",
    "* **Drop rows** missing critical fields:\n",
    "  * `id`\n",
    "  * `neighbourhood_group_cleansed`\n",
    "  * `room_type`\n",
    "  * `price`\n",
    "* **Coerce** `price` to numeric (USD).\n",
    "* **Trim** leading/trailing whitespace on string columns.\n"
   ]
  },
  {
   "cell_type": "code",
   "execution_count": null,
   "id": "a4831cd3",
   "metadata": {},
   "outputs": [],
   "source": [
    "# 1) Drop cols >50% missing\n",
    "thresh = 0.5\n",
    "cols_to_drop = missing_pct[missing_pct > thresh].index\n",
    "clean_df = raw_df.drop(columns=cols_to_drop)\n",
    "\n",
    "# 2) Drop rows missing critical\n",
    "critical = ['id','neighbourhood_group_cleansed','room_type','price']\n",
    "clean_df = clean_df.dropna(subset=critical)\n",
    "\n",
    "# 3) Clean price\n",
    "clean_df['price'] = (clean_df['price']\n",
    "                     .astype(str)\n",
    "                     .str.replace('[\\$,]', '', regex=True)\n",
    "                     .astype(float))\n",
    "\n",
    "# 4) Trim strings\n",
    "str_cols = clean_df.select_dtypes(include='object').columns\n",
    "clean_df[str_cols] = clean_df[str_cols].apply(lambda col: col.str.strip())\n",
    "\n",
    "print('After cleaning:', clean_df.shape)\n"
   ]
  },
  {
   "cell_type": "code",
   "execution_count": null,
   "id": "4bb36da2",
   "metadata": {},
   "outputs": [],
   "source": [
    "print(f'Columns before: {raw_df.shape[1]}')\n",
    "print(f'Columns after : {clean_df.shape[1]}')\n"
   ]
  },
  {
   "cell_type": "code",
   "execution_count": null,
   "id": "846dedf8",
   "metadata": {},
   "outputs": [],
   "source": [
    "OUTPUT_CSV = Path('/mnt/data/nyc_airbnb_cleaned_v2.csv')\n",
    "clean_df.to_csv(OUTPUT_CSV, index=False)\n",
    "\n",
    "# Compress\n",
    "with zipfile.ZipFile('/mnt/data/nyc_airbnb_cleaned_v2.zip', 'w', zipfile.ZIP_DEFLATED) as zipf:\n",
    "    zipf.write(OUTPUT_CSV, OUTPUT_CSV.name)\n",
    "\n",
    "print('Saved to', OUTPUT_CSV)\n"
   ]
  },
  {
   "cell_type": "markdown",
   "id": "6ca92b50",
   "metadata": {},
   "source": [
    "### Next Steps\n",
    "\n",
    "The cleaned dataset can now be used for exploratory analysis, visualization, and modeling without worrying about the messy original columns and missing data.\n",
    "\n",
    "Feel free to adapt the threshold or add additional cleaning steps (e.g., outlier removal, feature engineering) as needed.\n"
   ]
  }
 ],
 "metadata": {},
 "nbformat": 4,
 "nbformat_minor": 5
}
